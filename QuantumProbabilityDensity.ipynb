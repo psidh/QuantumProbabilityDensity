{
  "nbformat": 4,
  "nbformat_minor": 0,
  "metadata": {
    "colab": {
      "provenance": []
    },
    "kernelspec": {
      "name": "python3",
      "display_name": "Python 3"
    },
    "language_info": {
      "name": "python"
    }
  },
  "cells": [
    {
      "cell_type": "code",
      "execution_count": null,
      "metadata": {
        "id": "xmsVzbh5la8B"
      },
      "outputs": [],
      "source": [
        "import numpy as np\n",
        "import matplotlib.pyplot as plt"
      ]
    },
    {
      "cell_type": "markdown",
      "source": [
        "The project aims to visualize the quantum probability density of a Gaussian wavefunction using Python and the NumPy and Matplotlib libraries.\n",
        "\n",
        "The project defines a function quantum_probability_density(x_values, wavefunction, title) to plot the quantum probability density of a given wavefunction.\n",
        "\n",
        "\n",
        "The quantum_probability_density function takes three parameters:\n",
        "\n",
        "- x_values: An array of x-axis values, which represents the range of positions for the wavefunction.\n",
        "\n",
        "- wavefunction: An array containing the values of the wavefunction at corresponding x-axis positions.\n",
        "title (optional): The title of the plot, which defaults to \"Quantum Probability Density\" if not provided.\n",
        "\n",
        "\n",
        " 1. The wavefunction is normalized using the norm_factor to ensure that the probability density integrates to one over the entire range of x.\n",
        "\n",
        "\n",
        "2. If the normalization factor is close to zero (which can happen in certain scenarios), it is set to a small positive value (epsilon) to avoid division by zero.\n",
        "\n",
        "\n",
        "The Gaussian wavefunction is considered for visualization. The user is prompted to input the mean and standard deviation of the Gaussian wavefunction.\n",
        "\n",
        "\n",
        "- The Gaussian wavefunction is calculated using the formula: exp(-(x_values - mean)**2 / (2 * stddev**2)) / sqrt(2 * pi * stddev**2)\n",
        "\n",
        "\n",
        " - The main() function is the entry point of the program. It prompts the user to input the range and points for x and parameters for the Gaussian wavefunction.\n",
        "\n",
        "\n",
        "- The user's input is validated to ensure that the number of points and standard deviation are positive.\n",
        "\n",
        "\n",
        "The main() function then generates the x values using NumPy's linspace function and calculates the Gaussian wavefunction.\n",
        "\n",
        "\n",
        "Finally, the quantum_probability_density() function is called to visualize the quantum probability density of the wavefunction using Matplotlib's plot() function.\n",
        "\n",
        "\n",
        "The resulting plot shows the probability density as a function of position (x), which gives insights into the spatial distribution of the quantum state.\n",
        "\n",
        "\n",
        "The project is a simple demonstration of visualizing quantum probability densities and can be extended to handle more complex wavefunctions and quantum systems."
      ],
      "metadata": {
        "id": "5D5DhJsFl7tG"
      }
    },
    {
      "cell_type": "code",
      "source": [
        "def quantum_probability_density(x_values, wavefunction, title=\"Quantum Probability Density\"):\n",
        "\n",
        "    # Normalize the wavefunction\n",
        "    norm_factor = np.sqrt(np.trapz(np.abs(wavefunction) ** 2, x_values))\n",
        "\n",
        "    # Handle near-zero or zero normalization factor\n",
        "    epsilon = 1e-12\n",
        "    if norm_factor < epsilon:\n",
        "        print(\"Warning: Normalization factor is close to zero. Setting to a small positive value.\")\n",
        "        norm_factor = epsilon\n",
        "\n",
        "    wavefunction /= norm_factor\n",
        "\n",
        "    probability_density = np.abs(wavefunction) ** 2\n",
        "    plt.plot(x_values, probability_density, label=\"Probability Density\")\n",
        "    plt.xlabel(\"Position (x)\")\n",
        "    plt.ylabel(\"Probability Density\")\n",
        "    plt.title(title)\n",
        "    plt.legend()\n",
        "    plt.grid(True)\n",
        "    plt.show()\n",
        "\n",
        "def main():\n",
        "    print(\"Enter the range and points for x\")\n",
        "    xmin = float(input(\"Enter the minimum value of x: \"))\n",
        "    xmax = float(input(\"Enter the maximum value of x: \"))\n",
        "    num_points = int(input(\"Enter the number of points: \"))\n",
        "\n",
        "    if num_points <= 0:\n",
        "        print(\"Error: Number of points should be positive.\")\n",
        "        return\n",
        "\n",
        "    # Generate x values\n",
        "    x_values = np.linspace(xmin, xmax, num_points)\n",
        "\n",
        "    print(\"\\nEnter parameters for the Gaussian wavefunction:\")\n",
        "    mean = float(input(\"Enter the mean of the Gaussian wavefunction: \"))\n",
        "    stddev = float(input(\"Enter the standard deviation of the Gaussian wavefunction: \"))\n",
        "\n",
        "    if stddev <= 0:\n",
        "        print(\"Error: Standard deviation should be positive.\")\n",
        "        return\n",
        "\n",
        "    # Assuming a simple Gaussian wavefunction for visualization\n",
        "    wavefunction = np.exp(-(x_values - mean)**2 / (2 * stddev**2)) / np.sqrt(2 * np.pi * stddev**2)\n",
        "\n",
        "    # Visualize the quantum probability density\n",
        "    quantum_probability_density(x_values, wavefunction)\n",
        "\n",
        "if __name__ == \"__main__\":\n",
        "    main()\n"
      ],
      "metadata": {
        "id": "tQ6ZTSwIlkiQ"
      },
      "execution_count": null,
      "outputs": []
    }
  ]
}