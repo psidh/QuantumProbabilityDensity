{
  "nbformat": 4,
  "nbformat_minor": 0,
  "metadata": {
    "colab": {
      "provenance": []
    },
    "kernelspec": {
      "name": "python3",
      "display_name": "Python 3"
    },
    "language_info": {
      "name": "python"
    }
  },
  "cells": [
    {
      "cell_type": "code",
      "execution_count": null,
      "metadata": {
        "id": "xmsVzbh5la8B"
      },
      "outputs": [],
      "source": [
        "import numpy as np\n",
        "import matplotlib.pyplot as plt\n",
        "from mpl_toolkits.mplot3d import Axes3D"
      ]
    },
    {
      "cell_type": "markdown",
      "source": [],
      "metadata": {
        "id": "5D5DhJsFl7tG"
      }
    },
    {
      "cell_type": "code",
      "source": [
        "def complex_wavefunction(x, y, mean_x, stddev_x, mean_y, stddev_y):\n",
        "    # Complex wavefunction: superposition of two Gaussian wavefunctions\n",
        "    gaussian_x = np.exp(-(x - mean_x)**2 / (2 * stddev_x**2)) / np.sqrt(2 * np.pi * stddev_x**2)\n",
        "    gaussian_y = np.exp(-(y - mean_y)**2 / (2 * stddev_y**2)) / np.sqrt(2 * np.pi * stddev_y**2)\n",
        "    psi = gaussian_x * gaussian_y\n",
        "    return psi\n",
        "\n",
        "def quantum_probability_density_3d(x_values, y_values, wavefunction, title=\"Complex 3D Quantum Probability Density\"):\n",
        "    \"\"\"\n",
        "    Visualize the 3D quantum probability density of a given wavefunction.\n",
        "\n",
        "    Parameters:\n",
        "        x_values (array): An array of x values.\n",
        "        y_values (array): An array of y values.\n",
        "        wavefunction (array): An array representing the complex wavefunction.\n",
        "        title (str, optional): The title of the plot. Defaults to \"Complex 3D Quantum Probability Density\".\n",
        "    \"\"\"\n",
        "    probability_density = np.abs(wavefunction) ** 2\n",
        "    X, Y = np.meshgrid(x_values, y_values)\n",
        "    Z = probability_density\n",
        "\n",
        "    fig = plt.figure()\n",
        "    ax = fig.add_subplot(111, projection='3d')\n",
        "    ax.plot_surface(X, Y, Z, cmap='viridis')\n",
        "    ax.set_xlabel(\"Position (x)\")\n",
        "    ax.set_ylabel(\"Position (y)\")\n",
        "    ax.set_zlabel(\"Probability Density\")\n",
        "    ax.set_title(title)\n",
        "    plt.show()\n",
        "\n",
        "def main():\n",
        "    # Taking relevant user inputs\n",
        "    xmin = float(input(\"Enter the minimum value of x: \"))\n",
        "    xmax = float(input(\"Enter the maximum value of x: \"))\n",
        "    num_points = int(input(\"Enter the number of points: \"))\n",
        "\n",
        "    # Generate x and y values\n",
        "    x_values = np.linspace(xmin, xmax, num_points)\n",
        "    y_values = np.linspace(xmin, xmax, num_points)\n",
        "\n",
        "    # Parameters for the complex wavefunction\n",
        "    mean_x = float(input(\"Enter the mean of the Gaussian wavefunction in the x direction: \"))\n",
        "    stddev_x = float(input(\"Enter the standard deviation of the Gaussian wavefunction in the x direction: \"))\n",
        "    mean_y = float(input(\"Enter the mean of the Gaussian wavefunction in the y direction: \"))\n",
        "    stddev_y = float(input(\"Enter the standard deviation of the Gaussian wavefunction in the y direction: \"))\n",
        "\n",
        "    # Calculate the complex wavefunction\n",
        "    wavefunction = complex_wavefunction(x_values[:, np.newaxis], y_values[np.newaxis, :], mean_x, stddev_x, mean_y, stddev_y)\n",
        "\n",
        "    # Visualize the 3D complex quantum probability density\n",
        "    quantum_probability_density_3d(x_values, y_values, wavefunction)\n",
        "\n",
        "if __name__ == \"__main__\":\n",
        "    main()\n"
      ],
      "metadata": {
        "id": "tQ6ZTSwIlkiQ"
      },
      "execution_count": null,
      "outputs": []
    },
    {
      "cell_type": "markdown",
      "source": [
        "Sure, I'd be happy to explain how to use the provided code in a Jupyter Notebook.\n",
        "\n",
        "**Step 1: Launch Jupyter Notebook**\n",
        "1. If you haven't already, make sure you have Jupyter Notebook installed. You can install it using the command `pip install jupyter`.\n",
        "\n",
        "2. Open your terminal or command prompt and navigate to the directory where you want to work.\n",
        "\n",
        "3. Run the command `jupyter notebook`. This will launch a Jupyter Notebook session in your web browser.\n",
        "\n",
        "**Step 2: Create a New Notebook**\n",
        "1. In the Jupyter Notebook interface, click the \"New\" button and select \"Python 3\" to create a new notebook.\n",
        "\n",
        "2. A new notebook with an empty cell will be created. This is where you can write and execute your Python code.\n",
        "\n",
        "**Step 3: Add and Run the Code**\n",
        "1. Copy and paste the provided code into a cell in your Jupyter Notebook.\n",
        "\n",
        "2. Place the cursor in the cell containing the code and press \"Shift + Enter\" to run the code. The code will prompt you for various inputs, such as the minimum and maximum values of x, the number of points, and parameters for the Gaussian wavefunction. Enter the required values for each input.\n",
        "\n",
        "3. After entering the inputs, the code will generate the 3D quantum probability density plot based on your inputs. The plot will appear directly below the code cell.\n",
        "\n",
        "**Step 4: Interpretation and Analysis**\n",
        "1. The plot generated by the code displays a 3D surface representing the quantum probability density of a complex wavefunction. The x and y axes correspond to the positions along the x and y directions, while the z-axis represents the probability density.\n",
        "\n",
        "2. You can rotate and manipulate the 3D plot using your mouse or trackpad to gain different perspectives of the probability density distribution.\n",
        "\n",
        "3. The plot illustrates how the superposition of two Gaussian wavefunctions along the x and y directions generates a more complex quantum probability density. This demonstrates the concept of entanglement in quantum mechanics.\n",
        "\n",
        "**Step 5: Further Exploration**\n",
        "1. Feel free to experiment with different input values, such as changing the ranges of x and y or adjusting the parameters of the Gaussian wavefunctions. This will allow you to observe how the quantum probability density plot responds to different inputs.\n",
        "\n",
        "2. You can also modify the `complex_wavefunction` function to experiment with other types of complex wavefunctions and visualize their probability densities.\n",
        "\n",
        "By following these steps, you can use the provided code to create and explore the 3D quantum probability density visualization directly within a Jupyter Notebook environment."
      ],
      "metadata": {
        "id": "f_vmHj93tyDh"
      }
    }
  ]
}